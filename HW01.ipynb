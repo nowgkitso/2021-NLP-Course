{
 "cells": [
  {
   "cell_type": "code",
   "execution_count": 63,
   "metadata": {},
   "outputs": [],
   "source": [
    "import matplotlib.pyplot as plt\n",
    "import numpy as np\n",
    "import jieba\n",
    "import jieba.analyse\n",
    "from optparse import OptionParser"
   ]
  },
  {
   "cell_type": "code",
   "execution_count": 4,
   "metadata": {},
   "outputs": [
    {
     "name": "stdout",
     "output_type": "stream",
     "text": [
      "\t         418202\n",
      "\n",
      "         418202\n",
      "的         317883\n",
      "          294598\n",
      "有         202811\n",
      "?         161740\n",
      "？         160918\n",
      "是         100613\n",
      "沒         93778\n",
      "嗎         89875\n",
      "，         89550\n",
      "八卦        79119\n",
      "了         77440\n",
      "都         64114\n",
      "你         62915\n",
      "人         61440\n",
      "在         58795\n",
      "什麼        57760\n",
      "我         49063\n",
      "就         47754\n",
      "好         42804\n",
      "要         37354\n",
      "不         36863\n",
      "說         36650\n",
      "台灣        35851\n",
      "去         35677\n",
      "會         34672\n",
      "跟         33271\n",
      "怎麼        33196\n",
      "為         30834\n",
      "很         30177\n",
      "被         29440\n",
      "啊         28361\n",
      "也         24678\n",
      "吃         23985\n",
      "可以        23236\n",
      "肥宅        21771\n",
      "是不是       21560\n",
      "到         20970\n",
      "想         20654\n",
      "來         17310\n",
      "看         17205\n",
      "真的        16890\n",
      "後         16327\n",
      "錢         16233\n",
      "吧         15816\n",
      "幹         15569\n",
      "他         15073\n",
      "比         14422\n",
      "知道        14114\n",
      "才         13961\n",
      "辦         13953\n",
      "自己        13560\n",
      "多         13232\n",
      "誰         12948\n",
      "!         12813\n",
      "！         12115\n",
      "不是        11943\n",
      "上         11729\n",
      "阿         11405\n",
      "現在        11279\n",
      "買         11229\n",
      "就是        11021\n",
      "啦         10920\n",
      "最         10769\n",
      "不會        10751\n",
      "如果        10690\n",
      "還是        10589\n",
      "一個        10535\n",
      "對         10517\n",
      "喔         10494\n",
      "把         10354\n",
      "該         10303\n",
      "中國        10230\n",
      "一堆        10098\n",
      "。          9786\n",
      "用          9689\n",
      "這樣         9671\n",
      "有人         9666\n",
      "做          9545\n",
      "又          9517\n",
      "~          9514\n",
      "話          9276\n",
      ",          9263\n",
      "較          8957\n",
      "和          8940\n",
      "怎樣         8861\n",
      "時候         8806\n",
      "女生         8630\n",
      "日本         8594\n",
      "聽          8523\n",
      "一樣         8514\n",
      "到底         8471\n",
      "得          8300\n",
      "不要         8245\n",
      "讓          8241\n",
      "打          8218\n",
      "卦          8155\n",
      "能          7899\n",
      "再          7888\n"
     ]
    }
   ],
   "source": [
    "import jieba  \n",
    "txt = open(\"D:\\YandexDownloads\\hw1-dataset.txt\", encoding=\"utf-8\").read()  \n",
    "words  = jieba.lcut(txt)  \n",
    "counts = {}  \n",
    "for word in words:  \n",
    "    counts[word] = counts.get(word,0) + 1  \n",
    "items = list(counts.items())  \n",
    "items.sort(key=lambda x:x[1], reverse=True)   \n",
    "for i in range(100):  \n",
    "    word, count = items[i]  \n",
    "    print (\"{0:<10}{1:>5}\".format(word, count))"
   ]
  },
  {
   "cell_type": "code",
   "execution_count": null,
   "metadata": {},
   "outputs": [],
   "source": [
    "import jieba  \n",
    "txt = open(\"hw1-dataset.txt\", encoding=\"utf-8\").read()  \n",
    "#加載停用詞表  \n",
    "stopwords = [line.strip() for line in open(\"CS.txt\",encoding=\"utf-8\").readlines()]  \n",
    "words  = jieba.lcut(txt)  \n",
    "counts = {}  \n",
    "for word in words:  \n",
    "    #不在停用詞表中  \n",
    "    if word not in stopwords:  \n",
    "        #不統計字數爲一的詞  \n",
    "        if len(word) == 1:  \n",
    "            continue  \n",
    "        else:  \n",
    "            counts[word] = counts.get(word,0) + 1  \n",
    "items = list(counts.items())  \n",
    "items.sort(key=lambda x:x[1], reverse=True)   \n",
    "''''for i in range():  \n",
    "    word, count = items[i]  \n",
    "    print (\"{:<10}{:>7}\".format(word, count))'''"
   ]
  },
  {
   "cell_type": "code",
   "execution_count": 77,
   "metadata": {},
   "outputs": [
    {
     "name": "stdout",
     "output_type": "stream",
     "text": [
      "八卦          79119\n",
      "台灣          35851\n",
      "肥宅          21771\n",
      "真的          16890\n",
      "中國          10230\n",
      "一堆          10098\n",
      "有人           9666\n",
      "女生           8630\n",
      "日本           8594\n",
      "喜歡           6782\n",
      "朋友           6303\n",
      "感覺           6147\n",
      "美國           5358\n",
      "不用           5230\n",
      "正妹           4833\n",
      "東西           4368\n",
      "台北           4288\n",
      "QQ           3990\n",
      "時間           3965\n",
      "妹妹           3812\n",
      "世界           3792\n",
      "沒人           3725\n",
      "發現           3559\n",
      "中國人          3554\n",
      "國家           3554\n",
      "不到           3494\n",
      "工作           3483\n",
      "男生           3323\n",
      "好吃           3320\n",
      "公司           3199\n",
      "老婆           3157\n",
      "女友           3146\n",
      "老師           2943\n",
      "大學           2937\n",
      "邊緣           2807\n",
      "南部           2744\n",
      "好像           2712\n",
      "遊戲           2690\n",
      "第一           2640\n",
      "手機           2595\n",
      "垃圾           2587\n",
      "一點           2587\n",
      "只能           2536\n",
      "10           2503\n",
      "小孩           2435\n",
      "還好           2394\n",
      "電影           2378\n",
      "新聞           2378\n",
      "韓國           2370\n",
      "鄉民           2360\n",
      "XD           2285\n",
      "的掛           2237\n",
      "地方           2193\n",
      "有加           2112\n",
      "ptt          2110\n",
      "工具           2097\n",
      "英文           2085\n",
      "最強           2071\n",
      "警察           2067\n",
      "明天           2028\n",
      "不好           2026\n",
      "不想           2012\n",
      "多久           2006\n",
      "請問           1996\n",
      "結婚           1974\n",
      "機會           1967\n",
      "高中           1956\n",
      "上班           1956\n",
      "高雄           1948\n",
      "兩個           1947\n",
      "怎辦           1936\n",
      "搞頭           1933\n",
      "支持           1932\n",
      "畢業           1932\n",
      "學校           1917\n",
      "女森           1906\n",
      "人生           1898\n",
      "名字           1891\n",
      "那種           1883\n",
      "不錯           1874\n",
      "記得           1873\n",
      "學生           1867\n",
      "算是           1843\n",
      "有什麼          1837\n",
      "人類           1826\n",
      "這是           1811\n",
      "PTT          1789\n",
      "還在           1771\n",
      "希望           1769\n",
      "代表           1768\n",
      "妹子           1756\n",
      "早餐           1754\n",
      "社會           1732\n",
      "看過           1711\n",
      "政府           1706\n",
      "便宜           1704\n",
      "哈哈哈          1691\n",
      "男人           1689\n",
      "機車           1684\n",
      "好看           1660\n"
     ]
    },
    {
     "ename": "ValueError",
     "evalue": "x and y must have same first dimension, but have shapes (100,) and (300,)",
     "output_type": "error",
     "traceback": [
      "\u001b[1;31m---------------------------------------------------------------------------\u001b[0m",
      "\u001b[1;31mValueError\u001b[0m                                Traceback (most recent call last)",
      "\u001b[1;32mD:\\JupyterData\\hw1-dataset.txt\u001b[0m in \u001b[0;36m<module>\u001b[1;34m\u001b[0m\n\u001b[0;32m      5\u001b[0m     \u001b[0my\u001b[0m\u001b[1;33m.\u001b[0m\u001b[0mappend\u001b[0m\u001b[1;33m(\u001b[0m\u001b[0mcount\u001b[0m\u001b[1;33m)\u001b[0m\u001b[1;33m\u001b[0m\u001b[1;33m\u001b[0m\u001b[0m\n\u001b[0;32m      6\u001b[0m \u001b[0mx\u001b[0m \u001b[1;33m=\u001b[0m \u001b[0mrange\u001b[0m\u001b[1;33m(\u001b[0m\u001b[1;36m100\u001b[0m\u001b[1;33m)\u001b[0m\u001b[1;33m\u001b[0m\u001b[1;33m\u001b[0m\u001b[0m\n\u001b[1;32m----> 7\u001b[1;33m \u001b[0mplt\u001b[0m\u001b[1;33m.\u001b[0m\u001b[0mplot\u001b[0m\u001b[1;33m(\u001b[0m\u001b[0mx\u001b[0m\u001b[1;33m,\u001b[0m\u001b[0my\u001b[0m\u001b[1;33m)\u001b[0m\u001b[1;33m\u001b[0m\u001b[1;33m\u001b[0m\u001b[0m\n\u001b[0m\u001b[0;32m      8\u001b[0m \u001b[0mplt\u001b[0m\u001b[1;33m.\u001b[0m\u001b[0mshow\u001b[0m\u001b[1;33m(\u001b[0m\u001b[1;33m)\u001b[0m \u001b[1;31m#顯示繪製的圖形\u001b[0m\u001b[1;33m\u001b[0m\u001b[1;33m\u001b[0m\u001b[0m\n",
      "\u001b[1;32mD:\\anaconda\\lib\\site-packages\\matplotlib\\pyplot.py\u001b[0m in \u001b[0;36mplot\u001b[1;34m(scalex, scaley, data, *args, **kwargs)\u001b[0m\n\u001b[0;32m   2811\u001b[0m     return gca().plot(\n\u001b[0;32m   2812\u001b[0m         *args, scalex=scalex, scaley=scaley, **({\"data\": data} if data\n\u001b[1;32m-> 2813\u001b[1;33m         is not None else {}), **kwargs)\n\u001b[0m\u001b[0;32m   2814\u001b[0m \u001b[1;33m\u001b[0m\u001b[0m\n\u001b[0;32m   2815\u001b[0m \u001b[1;33m\u001b[0m\u001b[0m\n",
      "\u001b[1;32mD:\\anaconda\\lib\\site-packages\\matplotlib\\__init__.py\u001b[0m in \u001b[0;36minner\u001b[1;34m(ax, data, *args, **kwargs)\u001b[0m\n\u001b[0;32m   1808\u001b[0m                         \u001b[1;34m\"the Matplotlib list!)\"\u001b[0m \u001b[1;33m%\u001b[0m \u001b[1;33m(\u001b[0m\u001b[0mlabel_namer\u001b[0m\u001b[1;33m,\u001b[0m \u001b[0mfunc\u001b[0m\u001b[1;33m.\u001b[0m\u001b[0m__name__\u001b[0m\u001b[1;33m)\u001b[0m\u001b[1;33m,\u001b[0m\u001b[1;33m\u001b[0m\u001b[1;33m\u001b[0m\u001b[0m\n\u001b[0;32m   1809\u001b[0m                         RuntimeWarning, stacklevel=2)\n\u001b[1;32m-> 1810\u001b[1;33m             \u001b[1;32mreturn\u001b[0m \u001b[0mfunc\u001b[0m\u001b[1;33m(\u001b[0m\u001b[0max\u001b[0m\u001b[1;33m,\u001b[0m \u001b[1;33m*\u001b[0m\u001b[0margs\u001b[0m\u001b[1;33m,\u001b[0m \u001b[1;33m**\u001b[0m\u001b[0mkwargs\u001b[0m\u001b[1;33m)\u001b[0m\u001b[1;33m\u001b[0m\u001b[1;33m\u001b[0m\u001b[0m\n\u001b[0m\u001b[0;32m   1811\u001b[0m \u001b[1;33m\u001b[0m\u001b[0m\n\u001b[0;32m   1812\u001b[0m         inner.__doc__ = _add_data_doc(inner.__doc__,\n",
      "\u001b[1;32mD:\\anaconda\\lib\\site-packages\\matplotlib\\axes\\_axes.py\u001b[0m in \u001b[0;36mplot\u001b[1;34m(self, scalex, scaley, *args, **kwargs)\u001b[0m\n\u001b[0;32m   1609\u001b[0m         \u001b[0mkwargs\u001b[0m \u001b[1;33m=\u001b[0m \u001b[0mcbook\u001b[0m\u001b[1;33m.\u001b[0m\u001b[0mnormalize_kwargs\u001b[0m\u001b[1;33m(\u001b[0m\u001b[0mkwargs\u001b[0m\u001b[1;33m,\u001b[0m \u001b[0mmlines\u001b[0m\u001b[1;33m.\u001b[0m\u001b[0mLine2D\u001b[0m\u001b[1;33m.\u001b[0m\u001b[0m_alias_map\u001b[0m\u001b[1;33m)\u001b[0m\u001b[1;33m\u001b[0m\u001b[1;33m\u001b[0m\u001b[0m\n\u001b[0;32m   1610\u001b[0m \u001b[1;33m\u001b[0m\u001b[0m\n\u001b[1;32m-> 1611\u001b[1;33m         \u001b[1;32mfor\u001b[0m \u001b[0mline\u001b[0m \u001b[1;32min\u001b[0m \u001b[0mself\u001b[0m\u001b[1;33m.\u001b[0m\u001b[0m_get_lines\u001b[0m\u001b[1;33m(\u001b[0m\u001b[1;33m*\u001b[0m\u001b[0margs\u001b[0m\u001b[1;33m,\u001b[0m \u001b[1;33m**\u001b[0m\u001b[0mkwargs\u001b[0m\u001b[1;33m)\u001b[0m\u001b[1;33m:\u001b[0m\u001b[1;33m\u001b[0m\u001b[1;33m\u001b[0m\u001b[0m\n\u001b[0m\u001b[0;32m   1612\u001b[0m             \u001b[0mself\u001b[0m\u001b[1;33m.\u001b[0m\u001b[0madd_line\u001b[0m\u001b[1;33m(\u001b[0m\u001b[0mline\u001b[0m\u001b[1;33m)\u001b[0m\u001b[1;33m\u001b[0m\u001b[1;33m\u001b[0m\u001b[0m\n\u001b[0;32m   1613\u001b[0m             \u001b[0mlines\u001b[0m\u001b[1;33m.\u001b[0m\u001b[0mappend\u001b[0m\u001b[1;33m(\u001b[0m\u001b[0mline\u001b[0m\u001b[1;33m)\u001b[0m\u001b[1;33m\u001b[0m\u001b[1;33m\u001b[0m\u001b[0m\n",
      "\u001b[1;32mD:\\anaconda\\lib\\site-packages\\matplotlib\\axes\\_base.py\u001b[0m in \u001b[0;36m_grab_next_args\u001b[1;34m(self, *args, **kwargs)\u001b[0m\n\u001b[0;32m    391\u001b[0m                 \u001b[0mthis\u001b[0m \u001b[1;33m+=\u001b[0m \u001b[0margs\u001b[0m\u001b[1;33m[\u001b[0m\u001b[1;36m0\u001b[0m\u001b[1;33m]\u001b[0m\u001b[1;33m,\u001b[0m\u001b[1;33m\u001b[0m\u001b[1;33m\u001b[0m\u001b[0m\n\u001b[0;32m    392\u001b[0m                 \u001b[0margs\u001b[0m \u001b[1;33m=\u001b[0m \u001b[0margs\u001b[0m\u001b[1;33m[\u001b[0m\u001b[1;36m1\u001b[0m\u001b[1;33m:\u001b[0m\u001b[1;33m]\u001b[0m\u001b[1;33m\u001b[0m\u001b[1;33m\u001b[0m\u001b[0m\n\u001b[1;32m--> 393\u001b[1;33m             \u001b[1;32myield\u001b[0m \u001b[1;32mfrom\u001b[0m \u001b[0mself\u001b[0m\u001b[1;33m.\u001b[0m\u001b[0m_plot_args\u001b[0m\u001b[1;33m(\u001b[0m\u001b[0mthis\u001b[0m\u001b[1;33m,\u001b[0m \u001b[0mkwargs\u001b[0m\u001b[1;33m)\u001b[0m\u001b[1;33m\u001b[0m\u001b[1;33m\u001b[0m\u001b[0m\n\u001b[0m\u001b[0;32m    394\u001b[0m \u001b[1;33m\u001b[0m\u001b[0m\n\u001b[0;32m    395\u001b[0m \u001b[1;33m\u001b[0m\u001b[0m\n",
      "\u001b[1;32mD:\\anaconda\\lib\\site-packages\\matplotlib\\axes\\_base.py\u001b[0m in \u001b[0;36m_plot_args\u001b[1;34m(self, tup, kwargs)\u001b[0m\n\u001b[0;32m    368\u001b[0m             \u001b[0mx\u001b[0m\u001b[1;33m,\u001b[0m \u001b[0my\u001b[0m \u001b[1;33m=\u001b[0m \u001b[0mindex_of\u001b[0m\u001b[1;33m(\u001b[0m\u001b[0mtup\u001b[0m\u001b[1;33m[\u001b[0m\u001b[1;33m-\u001b[0m\u001b[1;36m1\u001b[0m\u001b[1;33m]\u001b[0m\u001b[1;33m)\u001b[0m\u001b[1;33m\u001b[0m\u001b[1;33m\u001b[0m\u001b[0m\n\u001b[0;32m    369\u001b[0m \u001b[1;33m\u001b[0m\u001b[0m\n\u001b[1;32m--> 370\u001b[1;33m         \u001b[0mx\u001b[0m\u001b[1;33m,\u001b[0m \u001b[0my\u001b[0m \u001b[1;33m=\u001b[0m \u001b[0mself\u001b[0m\u001b[1;33m.\u001b[0m\u001b[0m_xy_from_xy\u001b[0m\u001b[1;33m(\u001b[0m\u001b[0mx\u001b[0m\u001b[1;33m,\u001b[0m \u001b[0my\u001b[0m\u001b[1;33m)\u001b[0m\u001b[1;33m\u001b[0m\u001b[1;33m\u001b[0m\u001b[0m\n\u001b[0m\u001b[0;32m    371\u001b[0m \u001b[1;33m\u001b[0m\u001b[0m\n\u001b[0;32m    372\u001b[0m         \u001b[1;32mif\u001b[0m \u001b[0mself\u001b[0m\u001b[1;33m.\u001b[0m\u001b[0mcommand\u001b[0m \u001b[1;33m==\u001b[0m \u001b[1;34m'plot'\u001b[0m\u001b[1;33m:\u001b[0m\u001b[1;33m\u001b[0m\u001b[1;33m\u001b[0m\u001b[0m\n",
      "\u001b[1;32mD:\\anaconda\\lib\\site-packages\\matplotlib\\axes\\_base.py\u001b[0m in \u001b[0;36m_xy_from_xy\u001b[1;34m(self, x, y)\u001b[0m\n\u001b[0;32m    229\u001b[0m         \u001b[1;32mif\u001b[0m \u001b[0mx\u001b[0m\u001b[1;33m.\u001b[0m\u001b[0mshape\u001b[0m\u001b[1;33m[\u001b[0m\u001b[1;36m0\u001b[0m\u001b[1;33m]\u001b[0m \u001b[1;33m!=\u001b[0m \u001b[0my\u001b[0m\u001b[1;33m.\u001b[0m\u001b[0mshape\u001b[0m\u001b[1;33m[\u001b[0m\u001b[1;36m0\u001b[0m\u001b[1;33m]\u001b[0m\u001b[1;33m:\u001b[0m\u001b[1;33m\u001b[0m\u001b[1;33m\u001b[0m\u001b[0m\n\u001b[0;32m    230\u001b[0m             raise ValueError(\"x and y must have same first dimension, but \"\n\u001b[1;32m--> 231\u001b[1;33m                              \"have shapes {} and {}\".format(x.shape, y.shape))\n\u001b[0m\u001b[0;32m    232\u001b[0m         \u001b[1;32mif\u001b[0m \u001b[0mx\u001b[0m\u001b[1;33m.\u001b[0m\u001b[0mndim\u001b[0m \u001b[1;33m>\u001b[0m \u001b[1;36m2\u001b[0m \u001b[1;32mor\u001b[0m \u001b[0my\u001b[0m\u001b[1;33m.\u001b[0m\u001b[0mndim\u001b[0m \u001b[1;33m>\u001b[0m \u001b[1;36m2\u001b[0m\u001b[1;33m:\u001b[0m\u001b[1;33m\u001b[0m\u001b[1;33m\u001b[0m\u001b[0m\n\u001b[0;32m    233\u001b[0m             raise ValueError(\"x and y can be no greater than 2-D, but have \"\n",
      "\u001b[1;31mValueError\u001b[0m: x and y must have same first dimension, but have shapes (100,) and (300,)"
     ]
    },
    {
     "data": {
      "image/png": "[encoded data removed]",
      "text/plain": [
       "<Figure size 432x288 with 1 Axes>"
      ]
     },
     "metadata": {
      "needs_background": "light"
     },
     "output_type": "display_data"
    }
   ],
   "source": [
    "'''前100高頻的圖'''\n",
    "for i in range(100):  \n",
    "    word, count = items[i]  \n",
    "    print (\"{:<10}{:>7}\".format(word, count))\n",
    "    y.append(count)\n",
    "x = range(100)\n",
    "plt.plot(x,y)\n",
    "plt.show() #顯示繪製的圖形"
   ]
  },
  {
   "cell_type": "code",
   "execution_count": 66,
   "metadata": {},
   "outputs": [],
   "source": [
    "tfidfj=jieba.analyse.extract_tags(txt, topK=100, withWeight=True, allowPOS=())"
   ]
  },
  {
   "cell_type": "code",
   "execution_count": 67,
   "metadata": {},
   "outputs": [
    {
     "name": "stdout",
     "output_type": "stream",
     "text": [
      "[('什麼', 0.19464509600157406), ('八卦', 0.19420501140555646), ('台灣', 0.12081408131496592), ('怎麼', 0.11186701189176337), ('肥宅', 0.07336596927026089), ('現在', 0.03800903805058438), ('不會', 0.036229733848907944), ('還是', 0.03568381096884812), ('是不是', 0.0355764318510935), ('一個', 0.03550183667549485), ('中國', 0.034474018907481), ('這樣', 0.0325902479818425), ('怎樣', 0.029860633581543415), ('時候', 0.02967528939386879), ('一樣', 0.028691280252032575), ('真的', 0.026822655692091746), ('沒有', 0.026099831518909124), ('...', 0.02543259244328046), ('應該', 0.02359936993246231), ('可以', 0.022958278161416924), ('喜歡', 0.02285462328744244), ('因為', 0.022416537025666042), ('一堆', 0.021680457381807062), ('問題', 0.020815837223021518), ('感覺', 0.020714740393380813), ('哪個', 0.020643972612632316), ('女生', 0.02055531365074145), ('這麼', 0.019963253959718225), ('覺得', 0.01862540591413954), ('這種', 0.01824460785582621), ('美國', 0.018055893773830226), ('正妹', 0.016286699255117856), ('知道', 0.015811205555870015), ('其實', 0.01557902144763291), ('為何', 0.015043208250537165), ('還有', 0.014736547867293687), ('東西', 0.014719698395686903), ('比較', 0.01451750473640549), ('那麼', 0.014369229386265786), ('到底', 0.013855929767928526), ('有人', 0.013674560834915146), ('自己', 0.013466423468451874), ('QQ', 0.013445878342213998), ('時間', 0.013361630984180075), ('開始', 0.013206615845397658), ('這個', 0.012974093137224033), ('哪裡', 0.01282581778708433), ('不是', 0.012758688475732879), ('沒人', 0.012552856347054421), ('甚麼', 0.012468608989020498), ('出來', 0.012320333638880795), ('日本', 0.012127572493474573), ('那個', 0.012054111987493602), ('發現', 0.011993453889709177), ('中國人', 0.011976604418102393), ('國家', 0.011976604418102393), ('如果', 0.01195142064483163), ('不要', 0.011371977189677437), ('就是', 0.011178381502120506), ('他們', 0.010851059714769191), ('大家', 0.010829155333451544), ('朋友', 0.010388757432612226), ('很多', 0.010254718969681581), ('台北', 0.010090151731776114), ('已經', 0.009971517296895042), ('老師', 0.009917598987753332), ('大學', 0.00989737962182519), ('變成', 0.009695185962543778), ('邊緣', 0.009459293360048795), ('我們', 0.0093885255793003), ('結果', 0.0093885255793003), ('遊戲', 0.009065015724450039), ('不用', 0.00885884470039901), ('手機', 0.008744875763921134), ('一點', 0.008717916609350278), ('看到', 0.008670900198239207), ('多少', 0.008670105043160773), ('男生', 0.00855216230787021), ('別人', 0.008535942315997006), ('當然', 0.008482024006855295), ('10', 0.008434845486356299), ('女友', 0.008252324115040545), ('如何', 0.008088109356327164), ('還好', 0.008067527005328399), ('電影', 0.008013608696186688), ('新聞', 0.008013608696186688), ('還要', 0.008003499013222618), ('韓國', 0.007986649541615832), ('鄉民', 0.007952950598402264), ('起來', 0.007770976305048992), ('根本', 0.007719534763027918), ('XD', 0.007700208524300497), ('好吃', 0.007579158623013259), ('妹妹', 0.007550327706300244), ('的掛', 0.0075384535968753665), ('不過', 0.0073497395148793805), ('一直', 0.007303212591178013), ('..', 0.0072486426852386735), ('ptt', 0.007110477018063041), ('最強', 0.006979051139530123)]\n"
     ]
    }
   ],
   "source": [
    "print(tfidfj)"
   ]
  },
  {
   "cell_type": "code",
   "execution_count": 75,
   "metadata": {},
   "outputs": [
    {
     "ename": "TypeError",
     "evalue": "list indices must be integers or slices, not tuple",
     "output_type": "error",
     "traceback": [
      "\u001b[1;31m---------------------------------------------------------------------------\u001b[0m",
      "\u001b[1;31mTypeError\u001b[0m                                 Traceback (most recent call last)",
      "\u001b[1;32mD:\\JupyterData\\hw1-dataset.txt\u001b[0m in \u001b[0;36m<module>\u001b[1;34m\u001b[0m\n\u001b[0;32m      1\u001b[0m \u001b[1;32mfor\u001b[0m \u001b[0mi\u001b[0m \u001b[1;32min\u001b[0m \u001b[0mtfidfj\u001b[0m\u001b[1;33m:\u001b[0m\u001b[1;33m\u001b[0m\u001b[1;33m\u001b[0m\u001b[0m\n\u001b[1;32m----> 2\u001b[1;33m     \u001b[0mplt\u001b[0m\u001b[1;33m.\u001b[0m\u001b[0mplot\u001b[0m\u001b[1;33m(\u001b[0m\u001b[0mx\u001b[0m\u001b[1;33m,\u001b[0m\u001b[0mtfidfj\u001b[0m\u001b[1;33m[\u001b[0m\u001b[0mi\u001b[0m\u001b[1;33m]\u001b[0m\u001b[1;33m[\u001b[0m\u001b[1;36m1\u001b[0m\u001b[1;33m]\u001b[0m\u001b[1;33m)\u001b[0m\u001b[1;33m\u001b[0m\u001b[1;33m\u001b[0m\u001b[0m\n\u001b[0m\u001b[0;32m      3\u001b[0m \u001b[0mplt\u001b[0m\u001b[1;33m.\u001b[0m\u001b[0mshow\u001b[0m\u001b[1;33m(\u001b[0m\u001b[1;33m)\u001b[0m \u001b[1;31m#顯示繪製的圖形\u001b[0m\u001b[1;33m\u001b[0m\u001b[1;33m\u001b[0m\u001b[0m\n",
      "\u001b[1;31mTypeError\u001b[0m: list indices must be integers or slices, not tuple"
     ]
    }
   ],
   "source": [
    "for i in tfidfj:\n",
    "    plt.plot(x,tfidfj[i][1])\n",
    "plt.show() #顯示繪製的圖形"
   ]
  },
  {
   "cell_type": "code",
   "execution_count": 70,
   "metadata": {},
   "outputs": [
    {
     "data": {
      "text/plain": [
       "list"
      ]
     },
     "execution_count": 70,
     "metadata": {},
     "output_type": "execute_result"
    }
   ],
   "source": [
    "type(tfidfj)"
   ]
  },
  {
   "cell_type": "code",
   "execution_count": 74,
   "metadata": {},
   "outputs": [
    {
     "data": {
      "text/plain": [
       "0.19464509600157406"
      ]
     },
     "execution_count": 74,
     "metadata": {},
     "output_type": "execute_result"
    }
   ],
   "source": [
    "tfidfj[0][0]\n",
    "tfidfj[0][1]"
   ]
  },
  {
   "cell_type": "code",
   "execution_count": null,
   "metadata": {},
   "outputs": [],
   "source": []
  }
 ],
 "metadata": {
  "kernelspec": {
   "display_name": "Python 3",
   "language": "python",
   "name": "python3"
  },
  "language_info": {
   "codemirror_mode": {
    "name": "ipython",
    "version": 3
   },
   "file_extension": ".py",
   "mimetype": "text/x-python",
   "name": "python",
   "nbconvert_exporter": "python",
   "pygments_lexer": "ipython3",
   "version": "3.7.1"
  }
 },
 "nbformat": 4,
 "nbformat_minor": 2
}
