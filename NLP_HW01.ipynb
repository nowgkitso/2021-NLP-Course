{
 "cells": [
  {
   "cell_type": "code",
   "execution_count": 1,
   "metadata": {},
   "outputs": [],
   "source": [
    "import matplotlib.pyplot as plt\n",
    "import numpy as np\n",
    "import jieba\n",
    "import jieba.analyse\n",
    "from optparse import OptionParser"
   ]
  },
  {
   "cell_type": "code",
   "execution_count": 4,
   "metadata": {},
   "outputs": [
    {
     "name": "stdout",
     "output_type": "stream",
     "text": [
      "\t         418202\n",
      "\n",
      "         418202\n",
      "的         317883\n",
      "          294598\n",
      "有         202811\n",
      "?         161740\n",
      "？         160918\n",
      "是         100613\n",
      "沒         93778\n",
      "嗎         89875\n",
      "，         89550\n",
      "八卦        79119\n",
      "了         77440\n",
      "都         64114\n",
      "你         62915\n",
      "人         61440\n",
      "在         58795\n",
      "什麼        57760\n",
      "我         49063\n",
      "就         47754\n",
      "好         42804\n",
      "要         37354\n",
      "不         36863\n",
      "說         36650\n",
      "台灣        35851\n",
      "去         35677\n",
      "會         34672\n",
      "跟         33271\n",
      "怎麼        33196\n",
      "為         30834\n",
      "很         30177\n",
      "被         29440\n",
      "啊         28361\n",
      "也         24678\n",
      "吃         23985\n",
      "可以        23236\n",
      "肥宅        21771\n",
      "是不是       21560\n",
      "到         20970\n",
      "想         20654\n",
      "來         17310\n",
      "看         17205\n",
      "真的        16890\n",
      "後         16327\n",
      "錢         16233\n",
      "吧         15816\n",
      "幹         15569\n",
      "他         15073\n",
      "比         14422\n",
      "知道        14114\n",
      "才         13961\n",
      "辦         13953\n",
      "自己        13560\n",
      "多         13232\n",
      "誰         12948\n",
      "!         12813\n",
      "！         12115\n",
      "不是        11943\n",
      "上         11729\n",
      "阿         11405\n",
      "現在        11279\n",
      "買         11229\n",
      "就是        11021\n",
      "啦         10920\n",
      "最         10769\n",
      "不會        10751\n",
      "如果        10690\n",
      "還是        10589\n",
      "一個        10535\n",
      "對         10517\n",
      "喔         10494\n",
      "把         10354\n",
      "該         10303\n",
      "中國        10230\n",
      "一堆        10098\n",
      "。          9786\n",
      "用          9689\n",
      "這樣         9671\n",
      "有人         9666\n",
      "做          9545\n",
      "又          9517\n",
      "~          9514\n",
      "話          9276\n",
      ",          9263\n",
      "較          8957\n",
      "和          8940\n",
      "怎樣         8861\n",
      "時候         8806\n",
      "女生         8630\n",
      "日本         8594\n",
      "聽          8523\n",
      "一樣         8514\n",
      "到底         8471\n",
      "得          8300\n",
      "不要         8245\n",
      "讓          8241\n",
      "打          8218\n",
      "卦          8155\n",
      "能          7899\n",
      "再          7888\n"
     ]
    }
   ],
   "source": [
    "#沒有停用詞的狀況，前100高頻率的詞\n",
    "import jieba  \n",
    "txt = open(\"D:\\YandexDownloads\\hw1-dataset.txt\", encoding=\"utf-8\").read()  \n",
    "words  = jieba.lcut(txt)  \n",
    "counts = {}  \n",
    "for word in words:  \n",
    "    counts[word] = counts.get(word,0) + 1  \n",
    "items = list(counts.items())  \n",
    "items.sort(key=lambda x:x[1], reverse=True)   \n",
    "for i in range(100):  \n",
    "    word, count = items[i]  \n",
    "    print (\"{0:<10}{1:>5}\".format(word, count))"
   ]
  },
  {
   "cell_type": "code",
   "execution_count": 2,
   "metadata": {},
   "outputs": [
    {
     "name": "stderr",
     "output_type": "stream",
     "text": [
      "Building prefix dict from the default dictionary ...\n",
      "Loading model from cache C:\\Users\\user\\AppData\\Local\\Temp\\jieba.cache\n",
      "Loading model cost 0.709 seconds.\n",
      "Prefix dict has been built successfully.\n"
     ]
    }
   ],
   "source": [
    "#加上停用詞，前100高頻率的詞\n",
    "import jieba  \n",
    "txt = open(\"hw1-dataset.txt\", encoding=\"utf-8\").read()  \n",
    "stopwords = [line.strip() for line in open(\"CS.txt\",encoding=\"utf-8\").readlines()]  \n",
    "words  = jieba.lcut(txt)  \n",
    "counts = {}  \n",
    "for word in words:  \n",
    "    #不在停用詞表中  \n",
    "    if word not in stopwords:  \n",
    "        #不統計字數爲一的詞  \n",
    "        if len(word) == 1:  \n",
    "            continue  \n",
    "        else:  \n",
    "            counts[word] = counts.get(word,0) + 1  \n",
    "items = list(counts.items())  \n",
    "items.sort(key=lambda x:x[1], reverse=True)   "
   ]
  },
  {
   "cell_type": "code",
   "execution_count": 3,
   "metadata": {},
   "outputs": [
    {
     "name": "stdout",
     "output_type": "stream",
     "text": [
      "八卦          79119\n",
      "台灣          35851\n",
      "肥宅          21771\n",
      "真的          16890\n",
      "中國          10230\n",
      "一堆          10098\n",
      "有人           9666\n",
      "女生           8630\n",
      "日本           8594\n",
      "喜歡           6782\n",
      "朋友           6303\n",
      "感覺           6147\n",
      "美國           5358\n",
      "不用           5230\n",
      "正妹           4833\n",
      "東西           4368\n",
      "台北           4288\n",
      "QQ           3990\n",
      "時間           3965\n",
      "妹妹           3812\n",
      "世界           3792\n",
      "沒人           3725\n",
      "發現           3559\n",
      "中國人          3554\n",
      "國家           3554\n",
      "不到           3494\n",
      "工作           3483\n",
      "男生           3323\n",
      "好吃           3320\n",
      "公司           3199\n",
      "老婆           3157\n",
      "女友           3146\n",
      "老師           2943\n",
      "大學           2937\n",
      "邊緣           2807\n",
      "南部           2744\n",
      "好像           2712\n",
      "遊戲           2690\n",
      "第一           2640\n",
      "手機           2595\n",
      "垃圾           2587\n",
      "一點           2587\n",
      "只能           2536\n",
      "10           2503\n",
      "小孩           2435\n",
      "還好           2394\n",
      "電影           2378\n",
      "新聞           2378\n",
      "韓國           2370\n",
      "鄉民           2360\n",
      "XD           2285\n",
      "的掛           2237\n",
      "地方           2193\n",
      "有加           2112\n",
      "ptt          2110\n",
      "工具           2097\n",
      "英文           2085\n",
      "最強           2071\n",
      "警察           2067\n",
      "明天           2028\n",
      "不好           2026\n",
      "不想           2012\n",
      "多久           2006\n",
      "請問           1996\n",
      "結婚           1974\n",
      "機會           1967\n",
      "高中           1956\n",
      "上班           1956\n",
      "高雄           1948\n",
      "兩個           1947\n",
      "怎辦           1936\n",
      "搞頭           1933\n",
      "支持           1932\n",
      "畢業           1932\n",
      "學校           1917\n",
      "女森           1906\n",
      "人生           1898\n",
      "名字           1891\n",
      "那種           1883\n",
      "不錯           1874\n",
      "記得           1873\n",
      "學生           1867\n",
      "算是           1843\n",
      "有什麼          1837\n",
      "人類           1826\n",
      "這是           1811\n",
      "PTT          1789\n",
      "還在           1771\n",
      "希望           1769\n",
      "代表           1768\n",
      "妹子           1756\n",
      "早餐           1754\n",
      "社會           1732\n",
      "看過           1711\n",
      "政府           1706\n",
      "便宜           1704\n",
      "哈哈哈          1691\n",
      "男人           1689\n",
      "機車           1684\n",
      "好看           1660\n"
     ]
    },
    {
     "data": {
      "image/png": "[encoded data removed]",
      "text/plain": [
       "<Figure size 432x288 with 1 Axes>"
      ]
     },
     "metadata": {
      "needs_background": "light"
     },
     "output_type": "display_data"
    }
   ],
   "source": [
    "# 前100高頻的圖\n",
    "y=[]\n",
    "for i in range(100):  \n",
    "    word, count = items[i]  \n",
    "    print (\"{:<10}{:>7}\".format(word, count))\n",
    "    y.append(count)\n",
    "x = range(100)\n",
    "plt.plot(x,y)\n",
    "plt.show() #顯示繪製的圖形"
   ]
  },
  {
   "cell_type": "code",
   "execution_count": 4,
   "metadata": {},
   "outputs": [],
   "source": [
    "#TF-IDF前100數值分詞\n",
    "tfidfj=jieba.analyse.extract_tags(txt, topK=100, withWeight=True, allowPOS=())"
   ]
  },
  {
   "cell_type": "code",
   "execution_count": null,
   "metadata": {},
   "outputs": [],
   "source": [
    "print(tfidfj)"
   ]
  },
  {
   "cell_type": "code",
   "execution_count": 5,
   "metadata": {},
   "outputs": [],
   "source": [
    "c=[]\n",
    "for i in range(100):\n",
    "    c.append(tfidfj[i][1])"
   ]
  },
  {
   "cell_type": "code",
   "execution_count": 70,
   "metadata": {},
   "outputs": [
    {
     "data": {
      "text/plain": [
       "list"
      ]
     },
     "execution_count": 70,
     "metadata": {},
     "output_type": "execute_result"
    }
   ],
   "source": [
    "type(tfidfj)"
   ]
  },
  {
   "cell_type": "code",
   "execution_count": 74,
   "metadata": {},
   "outputs": [
    {
     "data": {
      "text/plain": [
       "0.19464509600157406"
      ]
     },
     "execution_count": 74,
     "metadata": {},
     "output_type": "execute_result"
    }
   ],
   "source": [
    "tfidfj[0][0]\n",
    "tfidfj[0][1]"
   ]
  },
  {
   "cell_type": "code",
   "execution_count": 6,
   "metadata": {
    "scrolled": true
   },
   "outputs": [
    {
     "data": {
      "image/png": "[encoded data removed]",
      "text/plain": [
       "<Figure size 432x288 with 1 Axes>"
      ]
     },
     "metadata": {
      "needs_background": "light"
     },
     "output_type": "display_data"
    }
   ],
   "source": [
    "#前100TF-IDF詞圖形\n",
    "plt.plot(x,c)\n",
    "plt.show() #顯示繪製的圖形"
   ]
  },
  {
   "cell_type": "code",
   "execution_count": null,
   "metadata": {},
   "outputs": [],
   "source": []
  }
 ],
 "metadata": {
  "kernelspec": {
   "display_name": "Python 3",
   "language": "python",
   "name": "python3"
  },
  "language_info": {
   "codemirror_mode": {
    "name": "ipython",
    "version": 3
   },
   "file_extension": ".py",
   "mimetype": "text/x-python",
   "name": "python",
   "nbconvert_exporter": "python",
   "pygments_lexer": "ipython3",
   "version": "3.7.1"
  }
 },
 "nbformat": 4,
 "nbformat_minor": 2
}
