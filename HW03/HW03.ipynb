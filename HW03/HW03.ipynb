{
 "cells": [
  {
   "cell_type": "code",
   "execution_count": 1,
   "metadata": {},
   "outputs": [],
   "source": [
    "from sklearn.feature_extraction.text import TfidfTransformer \n",
    "from sklearn.feature_extraction.text import TfidfVectorizer\n",
    "from sklearn.feature_extraction.text import CountVectorizer\n",
    "import pandas as pd\n",
    "import math\n",
    "from sklearn.preprocessing import normalize"
   ]
  },
  {
   "cell_type": "code",
   "execution_count": null,
   "metadata": {},
   "outputs": [],
   "source": [
    "import csv\n",
    "import jieba\n",
    "name = []\n",
    "Intro = []\n",
    "with open('./movie.csv',encoding='utf-8') as csvfile:\n",
    "    rows = list(csv.reader(csvfile))\n",
    "    for row in rows[1:6001] : \n",
    "        name.append(row[1])\n",
    "        text = row[4]\n",
    "        jiebaText = ' '.join(jieba.cut(text, cut_all=False, HMM=True))\n",
    "        Intro.append(jiebaText)"
   ]
  },
  {
   "cell_type": "code",
   "execution_count": null,
   "metadata": {},
   "outputs": [],
   "source": [
    "from sklearn.feature_extraction.text import CountVectorizer\n",
    "vectoerizer = CountVectorizer(min_df=1, max_df=1.0, token_pattern='\\\\b\\\\w+\\\\b')\n",
    "vectoerizer.fit(Intro)\n",
    "bag = vectoerizer.get_feature_names()"
   ]
  },
  {
   "cell_type": "code",
   "execution_count": null,
   "metadata": {},
   "outputs": [],
   "source": [
    "bagArr = []\n",
    "bagArr.append(bag_of_words)\n",
    "df = pd.DataFrame(bagArr)\n",
    "df.to_csv('bow.csv', encoding='utf_8_sig')\n",
    "X = vectoerizer.transform(Intro)"
   ]
  },
  {
   "cell_type": "code",
   "execution_count": null,
   "metadata": {},
   "outputs": [],
   "source": [
    "from sklearn.feature_extraction.text import TfidfTransformer\n",
    "tfidf_transformer = TfidfTransformer()\n",
    "tfidf_transformer.fit(X.toarray())\n",
    "tfidf = tfidf_transformer.transform(X)\n",
    "arr = tfidf.toarray()\n",
    "arr1 = arr[0:6001].tolist()"
   ]
  },
  {
   "cell_type": "code",
   "execution_count": null,
   "metadata": {},
   "outputs": [],
   "source": [
    "df = pd.DataFrame(allArr)\n",
    "df.to_csv('arr.csv', encoding='utf_8_sig')"
   ]
  },
  {
   "cell_type": "code",
   "execution_count": null,
   "metadata": {},
   "outputs": [],
   "source": [
    "#KNN\n",
    "import csv\n",
    "data = []\n",
    "target = []\n",
    "with open('./arr.csv', encoding='utf-8') as csvfile:\n",
    "    rows = list(csv.reader(csvfile))\n",
    "    for row in rows[2:6002]:\n",
    "        data.append(row[0:5])"
   ]
  },
  {
   "cell_type": "code",
   "execution_count": null,
   "metadata": {},
   "outputs": [],
   "source": [
    "floatData = []        \n",
    "for i in data:\n",
    "    tempFloatData = []\n",
    "    for x in i :\n",
    "        tempFloatData.append(float(x))\n",
    "    floatData.append(tempFloatData)"
   ]
  },
  {
   "cell_type": "code",
   "execution_count": null,
   "metadata": {},
   "outputs": [],
   "source": [
    "with open('./movie.csv', encoding='utf-8') as csvfile:\n",
    "    rows = list(csv.reader(csvfile))\n",
    "    for row in rows[1:6001]:\n",
    "        level = row[3][:2]\n",
    "        if level == '犯罪':\n",
    "            level = 0\n",
    "        elif level == '奇幻':\n",
    "            level = 1\n",
    "        elif level == '冒險':\n",
    "            level = 2\n",
    "        elif level == '科幻':\n",
    "            level = 3           \n",
    "        elif level == '紀錄':\n",
    "            level = 4            \n",
    "        elif level == '音樂':\n",
    "            level = 5            \n",
    "        elif level == '恐怖':\n",
    "            level = 6            \n",
    "        elif level == '動作':\n",
    "            level = 7\n",
    "        elif level == '動畫':\n",
    "            level = 8            \n",
    "        elif level == '喜劇':\n",
    "            level = 9            \n",
    "        elif level == '愛情':\n",
    "            level = 10           \n",
    "        elif level == '溫馨':\n",
    "            level = 11            \n",
    "        elif level == '劇情':\n",
    "            level = 12            \n",
    "        elif level == '影展':\n",
    "            level = 13            \n",
    "        elif level == '戰爭':\n",
    "            level = 14\n",
    "        elif level == '歷史':\n",
    "            level = 15            \n",
    "        elif level == '勵志':\n",
    "            level = 16            \n",
    "        elif level == '懸疑':\n",
    "            level = 17      \n",
    "        target.append(level)"
   ]
  },
  {
   "cell_type": "code",
   "execution_count": null,
   "metadata": {},
   "outputs": [],
   "source": [
    "X=floatData\n",
    "y=target\n",
    "X_train, X_test, y_train, y_test = train_test_split(X, y,test_size=0.001,random_state=1)\n",
    "clf=KNeighborsClassifier(n_neighbors=7,p=2,weights='distance',algorithm='brute')\n",
    "clf.fit(X_train,y_train)\n",
    "clf.score(X_test,y_test)"
   ]
  }
 ],
 "metadata": {
  "kernelspec": {
   "display_name": "Python 3",
   "language": "python",
   "name": "python3"
  },
  "language_info": {
   "codemirror_mode": {
    "name": "ipython",
    "version": 3
   },
   "file_extension": ".py",
   "mimetype": "text/x-python",
   "name": "python",
   "nbconvert_exporter": "python",
   "pygments_lexer": "ipython3",
   "version": "3.7.1"
  }
 },
 "nbformat": 4,
 "nbformat_minor": 2
}
